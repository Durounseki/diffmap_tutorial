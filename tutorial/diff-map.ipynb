{
 "cells": [
  {
   "cell_type": "markdown",
   "metadata": {},
   "source": [
    "# Collective Animal Behavior\n"
   ]
  },
  {
   "cell_type": "markdown",
   "metadata": {},
   "source": [
    "We consider the evolution of a collection of interacting particles, $A=\\{a_i\\}_{i=1}^{n}$, as a dynamical system. Each experimental observation of $A$, yields a state vector $X(t)=\\left(x_1(t), x_2(t),\\ldots, x_n(t) \\right)$, where the features $x_i(t)$ represent measurements specific to the system under study. These measurements might encompass, for instance, the position and the velocity, $x_i = (\\mathbf{x}_i,\\mathbf{v}_i)$, of the $i$-th bird in a flock of starlings or the activity of the $i$-th neuron in a neural network. Subsequent observations of $A$ generate a discrete time series \\mbox{$\\mathcal{X}=\\left\\{X_i\\right\\}_{i=1}^{N}=\\left\\{X(t_i)\\right\\}_{i=1}^{N}$}, that represents a sampling of a trajectory in the associated phase space $\\mathcal{S}$ [see Fig.~\\ref{fig:method1}(a)]."
   ]
  },
  {
   "cell_type": "markdown",
   "metadata": {

   },
   "source": [
    "```{image} ./method01-1.png```"
   ]
  },
  {
   "cell_type": "markdown",
   "metadata": {},
   "source": [
    "```{figure} ./method01_1.png\n",
    "---\n",
    "width: 16cm;\n",
    "name: fig-1;\n",
    "---\n",
    "Dynamical systems interpretation of the collective behavior of a system of interacting particles $$A$$. (a) An experimental observation of $A$ at a given time $t$ is represented by the feature vector $X(t)$. Here, we use schooling juvenile zebra fish (\\textit{D. rerio}) as an illustration. In this case, the feature vectors consist of the positions and velocities of each individual in $A$, that is $x_i=(\\mathbf{x}_i, \\mathbf{v}_i)$. (b) In the presence of a collective state, the state space $\\mathcal{S}$ contains structures such as $K_+$ and $K_-$ which correspond to swirling states with positive and negative angular momentum in the case of the schooling fish. The density of states is highly concentrated around the attractors $X_\\pm$. This allows us to use clustering techniques to identify the collective states $K_\\pm$ with positive and negative angular momentum. The background color gradient represents the density of states in $\\mathcal{S}$, it is higher around the attractors $X_{\\pm}$ and negligible around the isotropic configurations with random orientations, for example $X_0$ and $\\tilde{X}_0$.\n",
    "```\n",
    "<!-- <figure style=\"display: flex; flex-direction:column; justify-content: center; align-items: center; gap: 20px\">\n",
    "    <img style=\"width: 16cm; background-color: white\" src = \"./method01_1.png\" />\n",
    "    <figcaption> Figure 1. Dynamical systems interpretation of the collective behavior of a system of interacting particles $$A$$. (a) An experimental observation of $A$ at a given time $t$ is represented by the feature vector $X(t)$. Here, we use schooling juvenile zebra fish (\\textit{D. rerio}) as an illustration. In this case, the feature vectors consist of the positions and velocities of each individual in $A$, that is $x_i=(\\mathbf{x}_i, \\mathbf{v}_i)$. (b) In the presence of a collective state, the state space $\\mathcal{S}$ contains structures such as $K_+$ and $K_-$ which correspond to swirling states with positive and negative angular momentum in the case of the schooling fish. The density of states is highly concentrated around the attractors $X_\\pm$. This allows us to use clustering techniques to identify the collective states $K_\\pm$ with positive and negative angular momentum. The background color gradient represents the density of states in $\\mathcal{S}$, it is higher around the attractors $X_{\\pm}$ and negligible around the isotropic configurations with random orientations, for example $X_0$ and $\\tilde{X}_0$.</figcaption>\n",
    "</figure> -->"
   ]
  },
  {
   "cell_type": "code",
   "execution_count": 2,
   "metadata": {},
   "outputs": [
    {
     "data": {
      "text/plain": [
       "3"
      ]
     },
     "metadata": {
        "jupytext": {
            "text_representation": {
             "extension": ".md",
             "format_name": "myst",
             "format_version": "0.13",
             "jupytext_version": "1.14.5"
            }
        }
     },
     "output_type": "display_data"
    }
   ],
   "source": [
    "1+2"
   ]
  },
  {
   "cell_type": "code",
   "execution_count": null,
   "metadata": {},
   "outputs": [],
   "source": []
  }
 ],
 "metadata": {
  "kernelspec": {
   "display_name": "Julia 1.10.0",
   "language": "julia",
   "name": "julia-1.10"
  },
  "language_info": {
   "file_extension": ".jl",
   "mimetype": "application/julia",
   "name": "julia",
   "version": "1.10.0"
  }
 },
 "nbformat": 4,
 "nbformat_minor": 2
}
